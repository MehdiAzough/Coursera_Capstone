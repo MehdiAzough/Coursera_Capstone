{
 "cells": [
  {
   "cell_type": "markdown",
   "metadata": {},
   "source": [
    "<h1 align=center><font size = 5>Final Report: Capstone project</font></h1>\n"
   ]
  },
  {
   "cell_type": "markdown",
   "metadata": {},
   "source": [
    "## Introduction and Business Problem"
   ]
  },
  {
   "cell_type": "markdown",
   "metadata": {},
   "source": [
    "In this report, we are going to use you will use the Foursquare API to explore neighborhoods in Toronto. We'll group the neighborhoods into clusters and use them to choose where can someone open a new Bar (for exemple) to get the maximum benefits. Of course, it will depend of how many other bars exists in every neighborhoods, which means that if a bar is isolated from the others, it will give more benefits from people who are visiting this neighborhood\n",
    "We will answer a common question among people who want to invest in a new project. Suppose someone wants to open a new bar in a city (take Toronto as an example of a city). The first reflex that comes is to find the places in which we do not find many Bars and which contain places that are often populated (Hotels, Theaters ...). We can cluster the neighborhoods to get different categories of neighborhoods that will help this person to choose where to open a new Bar"
   ]
  },
  {
   "cell_type": "code",
   "execution_count": null,
   "metadata": {},
   "outputs": [],
   "source": []
  }
 ],
 "metadata": {
  "kernelspec": {
   "display_name": "Python 3",
   "language": "python",
   "name": "python3"
  },
  "language_info": {
   "codemirror_mode": {
    "name": "ipython",
    "version": 3
   },
   "file_extension": ".py",
   "mimetype": "text/x-python",
   "name": "python",
   "nbconvert_exporter": "python",
   "pygments_lexer": "ipython3",
   "version": "3.6.8"
  }
 },
 "nbformat": 4,
 "nbformat_minor": 2
}
