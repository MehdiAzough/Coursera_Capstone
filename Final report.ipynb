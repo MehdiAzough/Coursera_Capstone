{
 "cells": [
  {
   "cell_type": "markdown",
   "metadata": {},
   "source": [
    "## Final Report: Where to open my bar "
   ]
  },
  {
   "cell_type": "markdown",
   "metadata": {},
   "source": [
    "## Introduction and Business Problem"
   ]
  },
  {
   "cell_type": "markdown",
   "metadata": {},
   "source": [
    "In this report, we are going to use you will use the Foursquare API to explore neighborhoods in Toronto. We'll group the neighborhoods into clusters and use them to choose where can someone open a new Bar (for exemple) to get the maximum benefits. Of course, it will depend of how many other bars exists in every neighborhoods, which means that if a bar is isolated from the others, it will give more benefits from people who are visiting this neighborhood.\n",
    "\n",
    "We will answer a common question among people who want to invest in a new project. Suppose someone wants to open a new bar in a city (take Toronto as an example of a city). The first reflex that comes is to find the places in which we do not find many Bars and which contain places that are often populated (Hotels, Theaters ...). We can cluster the neighborhoods to get different categories of neighborhoods that will help this person to choose where to open a new Bar"
   ]
  },
  {
   "cell_type": "markdown",
   "metadata": {},
   "source": [
    "## Data description"
   ]
  },
  {
   "cell_type": "markdown",
   "metadata": {},
   "source": [
    "Using data in our previous lab, we're import it from https://cocl.us/new_york_dataset.\n",
    "The data we're going to explore is composed 5 boroughs and 306 neighborhoods. In order to segement the neighborhoods and explore them, we will essentially need a dataset that contains boroughs and the neighborhoods that exist in each borough as well as the the latitude and logitude coordinates of each neighborhood."
   ]
  },
  {
   "cell_type": "markdown",
   "metadata": {},
   "source": [
    "Our first data set is composed of 4 attributes :\n",
    "- Borough \n",
    "- Neighborhood \n",
    "- Latitude\n",
    "- Longitude\n",
    "    "
   ]
  },
  {
   "cell_type": "markdown",
   "metadata": {},
   "source": [
    "Then we'll use Foursquare api to get venues in a radius of 500 m for every neighborhood and do some statistical methods to classify neighborhoods and make a choice of where can this person open a new Bar to fet the maximum benifits from it"
   ]
  },
  {
   "cell_type": "markdown",
   "metadata": {},
   "source": [
    "New York City map will be used for this project.\n",
    "The map is on the link: https://geo.nyu.edu/catalog/nyu_2451_34572\n",
    "Publisher: New York (City). Department of City Planning Place(s)\n"
   ]
  },
  {
   "cell_type": "markdown",
   "metadata": {},
   "source": [
    "## Methodology"
   ]
  },
  {
   "cell_type": "markdown",
   "metadata": {},
   "source": [
    "step 1 : we'll first download the dataset we're going to use. It's the same Dataset as the previous Labs."
   ]
  },
  {
   "cell_type": "markdown",
   "metadata": {},
   "source": [
    "step 2 : render a visialisation of every neighborhood in new york using Folium API"
   ]
  },
  {
   "cell_type": "markdown",
   "metadata": {},
   "source": [
    "step 3 : use Foursquare Api to get venues in every neighborhood of new york"
   ]
  },
  {
   "cell_type": "markdown",
   "metadata": {},
   "source": [
    "step 4 : Group rows by neighborhood and by taking the mean of the frequency of occurrence of each categor where we'll find the name 'Bar' on it using regular expressions"
   ]
  },
  {
   "cell_type": "markdown",
   "metadata": {},
   "source": [
    "step 5 : sort the venues in descending order to select the first ones with higher bar's density"
   ]
  },
  {
   "cell_type": "markdown",
   "metadata": {},
   "source": [
    "step 6 : create the new dataframe and display the top 10 venues that contain Bars"
   ]
  },
  {
   "cell_type": "markdown",
   "metadata": {},
   "source": [
    "step 7 : Using k-means to cluster the neighborhood into 5 clusters. \n",
    "\n",
    "k-means is one of the simplest and popular unsupervised machine learning algorithms. ... In other words, the K-means algorithm identifies k number of centroids, and      then allocates every data point to the nearest cluster, while keeping the centroids as small as possible"
   ]
  },
  {
   "cell_type": "markdown",
   "metadata": {},
   "source": [
    "step 8 : visualisation of the clusters using Folium Api"
   ]
  },
  {
   "cell_type": "markdown",
   "metadata": {},
   "source": [
    "## Result"
   ]
  },
  {
   "cell_type": "markdown",
   "metadata": {},
   "source": [
    "We can easily detect on the map where there is a low density of Bars. We can choose this places to open a new Bar and get a maximum benifit from it because there will be no conccurence with other Bars "
   ]
  },
  {
   "cell_type": "markdown",
   "metadata": {},
   "source": [
    "The result show with different colors 5 clusters depending of the density of Bars in every neighborhood"
   ]
  }
 ],
 "metadata": {
  "kernelspec": {
   "display_name": "Python 3",
   "language": "python",
   "name": "python3"
  },
  "language_info": {
   "codemirror_mode": {
    "name": "ipython",
    "version": 3
   },
   "file_extension": ".py",
   "mimetype": "text/x-python",
   "name": "python",
   "nbconvert_exporter": "python",
   "pygments_lexer": "ipython3",
   "version": "3.6.8"
  }
 },
 "nbformat": 4,
 "nbformat_minor": 2
}
